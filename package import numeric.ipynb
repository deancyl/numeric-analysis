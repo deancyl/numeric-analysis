{
 "cells": [
  {
   "cell_type": "code",
   "execution_count": 62,
   "metadata": {
    "ExecuteTime": {
     "end_time": "2019-10-12T12:31:44.687966Z",
     "start_time": "2019-10-12T12:31:44.682979Z"
    }
   },
   "outputs": [],
   "source": [
    "import numeric.methods as nm\n",
    "import numpy as np"
   ]
  },
  {
   "cell_type": "code",
   "execution_count": 63,
   "metadata": {
    "ExecuteTime": {
     "end_time": "2019-10-12T12:31:45.486743Z",
     "start_time": "2019-10-12T12:31:45.479789Z"
    }
   },
   "outputs": [
    {
     "data": {
      "text/plain": [
       "['this is my package']"
      ]
     },
     "execution_count": 63,
     "metadata": {},
     "output_type": "execute_result"
    }
   ],
   "source": [
    "nm.s"
   ]
  },
  {
   "cell_type": "code",
   "execution_count": 64,
   "metadata": {
    "ExecuteTime": {
     "end_time": "2019-10-12T12:31:46.301628Z",
     "start_time": "2019-10-12T12:31:46.296641Z"
    }
   },
   "outputs": [],
   "source": [
    "f = lambda x : 2*x+1\n",
    "fx = lambda x : 2 "
   ]
  },
  {
   "cell_type": "code",
   "execution_count": 65,
   "metadata": {
    "ExecuteTime": {
     "end_time": "2019-10-12T12:31:47.175062Z",
     "start_time": "2019-10-12T12:31:47.157136Z"
    }
   },
   "outputs": [],
   "source": [
    "import numpy as np\n",
    "def bond_price(c=0.08 , fv=1000 , n=6 , m = 1 , bp = 955.14 , t = 'f'):\n",
    "    '''\n",
    "    c : coupon rate\n",
    "    fv : face value \n",
    "    n : time  to maturity\n",
    "    bp : real bond price\n",
    "    m : frequency\n",
    "    t ： \n",
    "        f : function\n",
    "        fx : derivative function\n",
    "    '''\n",
    "    c = (c/m) * fv\n",
    "    n = m * n\n",
    "    if t =='f':\n",
    "        return lambda yo : ((c * ( 1 - (1 / (1 + yo)**n ) )) / yo +  fv / (1+yo)**n) - bp\n",
    "    elif t == 'fx':\n",
    "        return lambda yo : -c/(yo**2) + c /( (yo**2) * ((1+yo)**n) ) + (n * c)/( yo * (1+yo)**(n+1) ) - (fv * n) / ((1+yo)**(n+1))\n",
    "    else:\n",
    "        print('wrong')\n",
    "        \n",
    "f = bond_price()\n",
    "fx = bond_price(t='fx')"
   ]
  },
  {
   "cell_type": "code",
   "execution_count": 66,
   "metadata": {
    "ExecuteTime": {
     "end_time": "2019-10-12T12:31:48.405562Z",
     "start_time": "2019-10-12T12:31:48.392597Z"
    }
   },
   "outputs": [
    {
     "name": "stdout",
     "output_type": "stream",
     "text": [
      "newton : 0.08999785557763838\n",
      "bisection : 0.08999694824218751\n",
      "brute_force ：0.09000000000000007\n",
      "secant : 0.0899958359777651\n"
     ]
    }
   ],
   "source": [
    "print('newton : ' + str(nm.newton(0.01,1e-3,500,f,fx)))\n",
    "print('bisection : '+str(nm.bisection(0.01,0.1,1e-5,500,f)))\n",
    "print('brute_force ：'+str(nm.brute_force(f)))\n",
    "print('secant : ' + str(nm.secant(-0.01,0.01,1e-3,500,f)))"
   ]
  },
  {
   "cell_type": "markdown",
   "metadata": {},
   "source": [
    "object"
   ]
  },
  {
   "cell_type": "code",
   "execution_count": 57,
   "metadata": {
    "ExecuteTime": {
     "end_time": "2019-10-12T12:28:50.581673Z",
     "start_time": "2019-10-12T12:28:50.551755Z"
    },
    "code_folding": [
     1
    ]
   },
   "outputs": [],
   "source": [
    "''' 物件化 object '''\n",
    "from dataclasses import dataclass\n",
    "@dataclass(order = True )\n",
    "class method():\n",
    "    '''\n",
    "    newton method\n",
    "    '''\n",
    "    def newton(self , xo,tol,no,f,fx):\n",
    "        '''\n",
    "        xo : initial approximation  \n",
    "        tol : tolerance  \n",
    "        no : maximum number of iterations\n",
    "        f : function\n",
    "        fx : derative function\n",
    "        ''' \n",
    "        i = 0\n",
    "        while i <= no :\n",
    "            try:\n",
    "                f1 = f(xo)\n",
    "                f2 = fx(xo)\n",
    "                x = xo - (  f1 / f2 ) \n",
    "            except ZeroDivisionError:\n",
    "    #             print('ZeroDivisionError')\n",
    "                continue\n",
    "            if np.abs(x-xo) < tol :\n",
    "                return x\n",
    "                break \n",
    "            i+=1\n",
    "            xo = x\n",
    "    #         print(xo)\n",
    "    #     if i == no:\n",
    "        print('maximum number of iterations N0...')\n",
    "    '''\n",
    "    secant method\n",
    "    '''\n",
    "    def secant(self ,po , p1 , tol , no , f ):\n",
    "        '''\n",
    "        po , p1 : initial approximations\n",
    "        TOL : tolerance\n",
    "        no : maximum number of iterations\n",
    "        '''\n",
    "        i = 2 \n",
    "        qo = f(po)\n",
    "        q1 = f(p1)\n",
    "        while i <= no : \n",
    "            p = p1 - q1*(p1-po) / (q1 - qo)\n",
    "            if np.abs(p - p1) < tol :\n",
    "                return p\n",
    "                break \n",
    "            i+=1\n",
    "            po , qo , p1 , q1 = p1 , q1 , p , f(p)\n",
    "        print('The method failed after N0 iterations, N0 =', no)    \n",
    "    '''\n",
    "    bisection method\n",
    "    '''\n",
    "    def bisection(self , start , end , tol , no , f):\n",
    "        '''\n",
    "        start : start points \n",
    "        end : end points \n",
    "        tol : tolerance \n",
    "        no : maximum number of iterations \n",
    "        '''\n",
    "        i = 1 \n",
    "        st = start\n",
    "        et = end\n",
    "        fa = f(st)\n",
    "        while i <= no:\n",
    "            p = st + (et-st)/2\n",
    "            fp = f(p)\n",
    "            if fp == 0 or (et-st)/2 < tol :\n",
    "                return p\n",
    "                break\n",
    "            i+=1\n",
    "            if fa * fp > 0 :\n",
    "                 st , fa  = p , fp\n",
    "            elif fa * fp < 0 : \n",
    "                et = p\n",
    "    #     if i == no:\n",
    "        print('maximum number of iterations N0')\n",
    "    '''\n",
    "    brute-force method\n",
    "    '''\n",
    "    def brute_force(self , f):\n",
    "        '''\n",
    "        rn : round number\n",
    "        f : func\n",
    "        '''\n",
    "        rn = 2\n",
    "        i = 0\n",
    "        while True:\n",
    "            i+= 0.001\n",
    "            p = np.round(f(i), rn)\n",
    "            if p == 0 :\n",
    "                return i\n",
    "                break"
   ]
  },
  {
   "cell_type": "code",
   "execution_count": 61,
   "metadata": {
    "ExecuteTime": {
     "end_time": "2019-10-12T12:30:06.791636Z",
     "start_time": "2019-10-12T12:30:06.776672Z"
    }
   },
   "outputs": [
    {
     "name": "stdout",
     "output_type": "stream",
     "text": [
      "newton : 0.08999785557763838\n",
      "bisection : 0.08999694824218751\n",
      "brute_force ：0.09000000000000007\n",
      "secant : 0.0899958359777651\n"
     ]
    }
   ],
   "source": [
    "nm = method()\n",
    "print('newton : ' + str(nm.newton(0.01,1e-3,500,f,fx)))\n",
    "print('bisection : '+str(nm.bisection(0.01,0.1,1e-5,500,f)))\n",
    "print('brute_force ：'+str(nm.brute_force(f)))\n",
    "print('secant : ' + str(nm.secant(-0.01,0.01,1e-3,500,f)))"
   ]
  },
  {
   "cell_type": "code",
   "execution_count": 67,
   "metadata": {
    "ExecuteTime": {
     "end_time": "2019-10-12T12:34:35.031912Z",
     "start_time": "2019-10-12T12:34:35.011000Z"
    }
   },
   "outputs": [
    {
     "name": "stdout",
     "output_type": "stream",
     "text": [
      "Help on function bisection in module numeric.methods:\n",
      "\n",
      "bisection(start, end, tol, no, f)\n",
      "    start : start points \n",
      "    end : end points \n",
      "    tol : tolerance \n",
      "    no : maximum number of iterations\n",
      "\n"
     ]
    }
   ],
   "source": [
    "import numeric.methods as nm\n",
    "help(nm.bisection)"
   ]
  }
 ],
 "metadata": {
  "hide_input": false,
  "kernelspec": {
   "display_name": "Python 3",
   "language": "python",
   "name": "python3"
  },
  "language_info": {
   "codemirror_mode": {
    "name": "ipython",
    "version": 3
   },
   "file_extension": ".py",
   "mimetype": "text/x-python",
   "name": "python",
   "nbconvert_exporter": "python",
   "pygments_lexer": "ipython3",
   "version": "3.7.3"
  },
  "toc": {
   "base_numbering": 1,
   "nav_menu": {},
   "number_sections": true,
   "sideBar": true,
   "skip_h1_title": false,
   "title_cell": "Table of Contents",
   "title_sidebar": "Contents",
   "toc_cell": false,
   "toc_position": {},
   "toc_section_display": true,
   "toc_window_display": false
  },
  "varInspector": {
   "cols": {
    "lenName": 16,
    "lenType": 16,
    "lenVar": 40
   },
   "kernels_config": {
    "python": {
     "delete_cmd_postfix": "",
     "delete_cmd_prefix": "del ",
     "library": "var_list.py",
     "varRefreshCmd": "print(var_dic_list())"
    },
    "r": {
     "delete_cmd_postfix": ") ",
     "delete_cmd_prefix": "rm(",
     "library": "var_list.r",
     "varRefreshCmd": "cat(var_dic_list()) "
    }
   },
   "types_to_exclude": [
    "module",
    "function",
    "builtin_function_or_method",
    "instance",
    "_Feature"
   ],
   "window_display": false
  }
 },
 "nbformat": 4,
 "nbformat_minor": 2
}
