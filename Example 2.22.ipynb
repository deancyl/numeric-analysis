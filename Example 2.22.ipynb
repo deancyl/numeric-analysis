{
 "cells": [
  {
   "cell_type": "markdown",
   "metadata": {},
   "source": [
    "<img src='1.png'>"
   ]
  },
  {
   "cell_type": "code",
   "execution_count": 66,
   "metadata": {
    "ExecuteTime": {
     "end_time": "2019-12-12T12:17:29.319228Z",
     "start_time": "2019-12-12T12:17:29.315239Z"
    }
   },
   "outputs": [],
   "source": [
    "from decimal import getcontext\n",
    "getcontext().prec = 7"
   ]
  },
  {
   "cell_type": "code",
   "execution_count": 35,
   "metadata": {
    "ExecuteTime": {
     "end_time": "2019-12-12T12:01:49.838587Z",
     "start_time": "2019-12-12T12:01:49.827537Z"
    },
    "code_folding": []
   },
   "outputs": [],
   "source": [
    "import numpy as np\n",
    "def np_gaussElimin(A,B):\n",
    "    n = len(B)\n",
    "    a_b = np.asarray(np.column_stack((A,B)))\n",
    "    for i in range(0,n-1):\n",
    "        for k in range(i,n-1):\n",
    "            lam = a_b[k+1,i] / a_b[i,i]\n",
    "#             print('lam {}'.format(lam))\n",
    "            a_b[k+1,:] = a_b[k+1,:] -lam * a_b[i,:]\n",
    "#     print(a_b)\n",
    "    b = a_b[:,-1]\n",
    "    a = a_b[:,0:-1]\n",
    "\n",
    "    for k in range(n-1,-1,-1): # back solving\n",
    "        try : \n",
    "            b[k] = (b[k] - np.dot(a[k,k+1:n],b[k+1:n]))/a[k,k]\n",
    "        except ZeroDivisionError as zero : \n",
    "            print('det A = 0')\n",
    "    return a , b\n",
    "    print('b = {}'.format(b))"
   ]
  },
  {
   "cell_type": "code",
   "execution_count": 52,
   "metadata": {
    "ExecuteTime": {
     "end_time": "2019-12-12T12:08:23.417222Z",
     "start_time": "2019-12-12T12:08:23.413228Z"
    }
   },
   "outputs": [],
   "source": [
    "a = np.mat([[3.0,1.0,-1.0],[2.0,4.0,1.0],[-1.0,2.0,5.0]])\n",
    "b = np.array([4,1,1])"
   ]
  },
  {
   "cell_type": "code",
   "execution_count": 53,
   "metadata": {
    "ExecuteTime": {
     "end_time": "2019-12-12T12:08:24.941824Z",
     "start_time": "2019-12-12T12:08:24.927865Z"
    }
   },
   "outputs": [
    {
     "data": {
      "text/plain": [
       "(array([[ 3.        ,  1.        , -1.        ],\n",
       "        [ 0.        ,  3.33333333,  1.66666667],\n",
       "        [ 0.        ,  0.        ,  3.5       ]]), array([ 2., -1.,  1.]))"
      ]
     },
     "execution_count": 53,
     "metadata": {},
     "output_type": "execute_result"
    }
   ],
   "source": [
    "np_gaussElimin(a,b)"
   ]
  },
  {
   "cell_type": "code",
   "execution_count": 1,
   "metadata": {
    "ExecuteTime": {
     "end_time": "2019-12-12T11:40:02.710702Z",
     "start_time": "2019-12-12T11:40:02.703718Z"
    },
    "cell_style": "split"
   },
   "outputs": [],
   "source": [
    "'''\n",
    "Jacobi and Gauss Seidel 3d\n",
    "'''\n",
    "def u_need_vw(v,w):\n",
    "    return ((4.0 - v + w)/3)\n",
    "def v_need_uw(u,w):\n",
    "    '''\n",
    "    u -> +1\n",
    "    w -> 0 \n",
    "    '''\n",
    "    return ((1-2*u-w)/4.0)\n",
    "def w_need_uv(u,v):\n",
    "    '''\n",
    "    u -> +1 \n",
    "    v -> +1\n",
    "    '''\n",
    "    return ((1+u-2*v)/5)"
   ]
  },
  {
   "cell_type": "code",
   "execution_count": 19,
   "metadata": {
    "ExecuteTime": {
     "end_time": "2019-12-12T11:47:39.190147Z",
     "start_time": "2019-12-12T11:47:39.185156Z"
    },
    "cell_style": "split"
   },
   "outputs": [],
   "source": [
    "'''\n",
    "SOR\n",
    "'''\n",
    "def u_need_uvw(u,v,w,omega):\n",
    "    '''\n",
    "    output -> +1\n",
    "    input -> 0\n",
    "    '''\n",
    "    return (1.0-omega)*u+omega*((4-v+w)/3.0)\n",
    "def v_need_vuw(v,u,w,omega):\n",
    "    '''\n",
    "    output -> +1\n",
    "    input -> u +1 ,else 0\n",
    "    '''\n",
    "    return (1.0-omega)*v+omega*(1-2*u-w)/4.0\n",
    "def w_need_wuv(w,u,v,omega):\n",
    "    '''\n",
    "    only w -> 0 ,else +1\n",
    "    '''\n",
    "    return (1-omega)*w+omega*(1+u-2*v)/5.0"
   ]
  },
  {
   "cell_type": "code",
   "execution_count": 49,
   "metadata": {
    "ExecuteTime": {
     "end_time": "2019-12-12T12:04:56.404149Z",
     "start_time": "2019-12-12T12:04:56.375337Z"
    }
   },
   "outputs": [
    {
     "name": "stdout",
     "output_type": "stream",
     "text": [
      "94 (2.0, -1.0, 1.0)\n"
     ]
    }
   ],
   "source": [
    "def Jacobi():\n",
    "    p = (0,0,0) # v ,w need\n",
    "    while True :\n",
    "        u = u_need_vw(p[1],p[2])\n",
    "        v = v_need_uw(p[0],p[2])\n",
    "        w = w_need_uv(p[0],p[1])\n",
    "        p = (u,v,w)\n",
    "        yield u,v,w\n",
    "        \n",
    "tol = 1e-50\n",
    "for i , r in enumerate(Jacobi()):\n",
    "    if i > 2 :\n",
    "        if (np.abs((y[0] - r[0])) < tol and np.abs((y[1] - r[1])) < tol and np.abs((y[2] - r[2])) < tol ) or i >= 100 :\n",
    "            print(i,r)\n",
    "            break\n",
    "    y = r"
   ]
  },
  {
   "cell_type": "code",
   "execution_count": 50,
   "metadata": {
    "ExecuteTime": {
     "end_time": "2019-12-12T12:05:01.377601Z",
     "start_time": "2019-12-12T12:05:01.368306Z"
    },
    "cell_style": "center"
   },
   "outputs": [
    {
     "name": "stdout",
     "output_type": "stream",
     "text": [
      "45 (2.0, -1.0, 1.0)\n"
     ]
    }
   ],
   "source": [
    "def Gauss_Seidel_3d():\n",
    "    p = (0,0) # v ,w need\n",
    "    while True :\n",
    "        u = u_need_vw(p[0],p[1])\n",
    "        v = v_need_uw(u,p[1])\n",
    "        w = w_need_uv(u,v)\n",
    "        p = (v,w)\n",
    "        yield u,v,w\n",
    "        \n",
    "tol = 1e-50\n",
    "for i , r in enumerate(Gauss_Seidel_3d()):\n",
    "    if i > 2 :\n",
    "        if (np.abs((y[0] - r[0])) < tol and np.abs((y[1] - r[1])) < tol and np.abs((y[2] - r[2])) < tol ) or i >= 100 :\n",
    "            print(i,r)\n",
    "            break\n",
    "    y = r"
   ]
  },
  {
   "cell_type": "code",
   "execution_count": 57,
   "metadata": {
    "ExecuteTime": {
     "end_time": "2019-12-12T12:11:58.422501Z",
     "start_time": "2019-12-12T12:11:58.412402Z"
    }
   },
   "outputs": [
    {
     "name": "stdout",
     "output_type": "stream",
     "text": [
      "27 (2.0, -1.0, 1.0)\n"
     ]
    }
   ],
   "source": [
    "def SOR(omega = 1.25):\n",
    "    p = (0,0,0)\n",
    "    while True :\n",
    "        u = u_need_uvw(p[0],p[1],p[2],omega)\n",
    "        v = v_need_vuw(p[1],u,p[2],omega)\n",
    "        w = w_need_wuv(p[2],u,v,omega)\n",
    "        p = (u,v,w)\n",
    "        yield (u,v,w)\n",
    "\n",
    "tol = 1e-50\n",
    "for i , r in enumerate(SOR()):\n",
    "    if i > 2 :\n",
    "        if (np.abs((y[0] - r[0])) < tol and np.abs((y[1] - r[1])) < tol and np.abs((y[2] - r[2])) < tol ) or i >= 100 :\n",
    "            print(i,r)\n",
    "            break\n",
    "    y = r"
   ]
  },
  {
   "cell_type": "markdown",
   "metadata": {},
   "source": [
    "收斂的速度  \n",
    "\n",
    "- 1 . SOR\n",
    "- 2 . Gauss-Seidel\n",
    "- 3 . Jacobi "
   ]
  },
  {
   "cell_type": "code",
   "execution_count": 101,
   "metadata": {
    "ExecuteTime": {
     "end_time": "2019-12-12T12:34:10.545130Z",
     "start_time": "2019-12-12T12:34:10.299578Z"
    },
    "scrolled": true
   },
   "outputs": [
    {
     "name": "stdout",
     "output_type": "stream",
     "text": [
      "i = 100 , omega =  1.000\n",
      "i = 100 , omega =  1.010\n",
      "i = 39 , omega =  1.020\n",
      "i = 100 , omega =  1.030\n",
      "i = 100 , omega =  1.040\n",
      "i = 100 , omega =  1.050\n",
      "i = 100 , omega =  1.060\n",
      "i = 100 , omega =  1.070\n",
      "i = 34 , omega =  1.080\n",
      "i = 100 , omega =  1.090\n",
      "i = 100 , omega =  1.100\n",
      "i = 28 , omega =  1.110\n",
      "i = 27 , omega =  1.120\n",
      "i = 24 , omega =  1.130\n",
      "i = 21 , omega =  1.140\n",
      "i = 19 , omega =  1.150\n",
      "i = 20 , omega =  1.160\n",
      "i = 22 , omega =  1.170\n",
      "i = 22 , omega =  1.180\n",
      "i = 23 , omega =  1.190\n",
      "i = 23 , omega =  1.200\n",
      "i = 23 , omega =  1.210\n",
      "i = 24 , omega =  1.220\n",
      "i = 25 , omega =  1.230\n",
      "i = 25 , omega =  1.240\n",
      "i = 26 , omega =  1.250\n",
      "i = 27 , omega =  1.260\n",
      "i = 28 , omega =  1.270\n",
      "i = 29 , omega =  1.280\n",
      "i = 29 , omega =  1.290\n",
      "i = 31 , omega =  1.300\n",
      "i = 31 , omega =  1.310\n",
      "i = 32 , omega =  1.320\n",
      "i = 33 , omega =  1.330\n",
      "i = 34 , omega =  1.340\n",
      "i = 36 , omega =  1.350\n",
      "i = 37 , omega =  1.360\n",
      "i = 37 , omega =  1.370\n",
      "i = 39 , omega =  1.380\n",
      "i = 42 , omega =  1.390\n",
      "i = 40 , omega =  1.400\n",
      "i = 42 , omega =  1.410\n",
      "i = 43 , omega =  1.420\n",
      "i = 46 , omega =  1.430\n",
      "i = 46 , omega =  1.440\n",
      "i = 48 , omega =  1.450\n",
      "i = 51 , omega =  1.460\n",
      "i = 52 , omega =  1.470\n",
      "i = 55 , omega =  1.480\n",
      "i = 56 , omega =  1.490\n",
      "i = 59 , omega =  1.500\n",
      "i = 59 , omega =  1.510\n",
      "i = 61 , omega =  1.520\n",
      "i = 63 , omega =  1.530\n",
      "i = 70 , omega =  1.540\n",
      "i = 69 , omega =  1.550\n",
      "i = 73 , omega =  1.560\n",
      "i = 73 , omega =  1.570\n",
      "i = 75 , omega =  1.580\n",
      "i = 80 , omega =  1.590\n",
      "i = 82 , omega =  1.600\n",
      "i = 87 , omega =  1.610\n",
      "i = 89 , omega =  1.620\n",
      "i = 100 , omega =  1.630\n",
      "i = 100 , omega =  1.640\n",
      "i = 100 , omega =  1.650\n",
      "i = 100 , omega =  1.660\n",
      "i = 100 , omega =  1.670\n",
      "i = 100 , omega =  1.680\n",
      "i = 100 , omega =  1.690\n",
      "i = 100 , omega =  1.700\n",
      "i = 100 , omega =  1.710\n",
      "i = 100 , omega =  1.720\n",
      "i = 100 , omega =  1.730\n",
      "i = 100 , omega =  1.740\n",
      "i = 100 , omega =  1.750\n",
      "i = 100 , omega =  1.760\n",
      "i = 100 , omega =  1.770\n",
      "i = 100 , omega =  1.780\n",
      "i = 100 , omega =  1.790\n",
      "i = 100 , omega =  1.800\n",
      "i = 100 , omega =  1.810\n",
      "i = 100 , omega =  1.820\n",
      "i = 100 , omega =  1.830\n",
      "i = 100 , omega =  1.840\n",
      "i = 100 , omega =  1.850\n",
      "i = 100 , omega =  1.860\n",
      "i = 100 , omega =  1.870\n",
      "i = 100 , omega =  1.880\n",
      "i = 100 , omega =  1.890\n",
      "i = 100 , omega =  1.900\n",
      "i = 100 , omega =  1.910\n",
      "i = 100 , omega =  1.920\n",
      "i = 100 , omega =  1.930\n",
      "i = 100 , omega =  1.940\n",
      "i = 100 , omega =  1.950\n",
      "i = 100 , omega =  1.960\n",
      "i = 100 , omega =  1.970\n",
      "i = 100 , omega =  1.980\n",
      "i = 100 , omega =  1.990\n",
      "i = 100 , omega =  2.000\n",
      "i = 100 , omega =  2.010\n",
      "i = 100 , omega =  2.020\n",
      "i = 100 , omega =  2.030\n",
      "i = 100 , omega =  2.040\n",
      "i = 100 , omega =  2.050\n",
      "i = 100 , omega =  2.060\n",
      "i = 100 , omega =  2.070\n",
      "i = 100 , omega =  2.080\n",
      "i = 100 , omega =  2.090\n",
      "i = 100 , omega =  2.100\n",
      "i = 100 , omega =  2.110\n",
      "i = 100 , omega =  2.120\n",
      "i = 100 , omega =  2.130\n",
      "i = 100 , omega =  2.140\n",
      "i = 100 , omega =  2.150\n",
      "i = 100 , omega =  2.160\n",
      "i = 100 , omega =  2.170\n",
      "i = 100 , omega =  2.180\n",
      "i = 100 , omega =  2.190\n",
      "i = 100 , omega =  2.200\n",
      "i = 100 , omega =  2.210\n",
      "i = 100 , omega =  2.220\n",
      "i = 100 , omega =  2.230\n",
      "i = 100 , omega =  2.240\n",
      "i = 100 , omega =  2.250\n",
      "i = 100 , omega =  2.260\n",
      "i = 100 , omega =  2.270\n",
      "i = 100 , omega =  2.280\n",
      "i = 100 , omega =  2.290\n",
      "i = 100 , omega =  2.300\n",
      "i = 100 , omega =  2.310\n",
      "i = 100 , omega =  2.320\n",
      "i = 100 , omega =  2.330\n",
      "i = 100 , omega =  2.340\n",
      "i = 100 , omega =  2.350\n",
      "i = 100 , omega =  2.360\n",
      "i = 100 , omega =  2.370\n",
      "i = 100 , omega =  2.380\n",
      "i = 100 , omega =  2.390\n",
      "i = 100 , omega =  2.400\n",
      "i = 100 , omega =  2.410\n",
      "i = 100 , omega =  2.420\n",
      "i = 100 , omega =  2.430\n",
      "i = 100 , omega =  2.440\n",
      "i = 100 , omega =  2.450\n",
      "i = 100 , omega =  2.460\n",
      "i = 100 , omega =  2.470\n",
      "i = 100 , omega =  2.480\n",
      "i = 100 , omega =  2.490\n",
      "i = 100 , omega =  2.500\n",
      "i = 100 , omega =  2.510\n",
      "i = 100 , omega =  2.520\n",
      "i = 100 , omega =  2.530\n",
      "i = 100 , omega =  2.540\n",
      "i = 100 , omega =  2.550\n",
      "i = 100 , omega =  2.560\n",
      "i = 100 , omega =  2.570\n",
      "i = 100 , omega =  2.580\n",
      "i = 100 , omega =  2.590\n",
      "i = 100 , omega =  2.600\n",
      "i = 100 , omega =  2.610\n",
      "i = 100 , omega =  2.620\n",
      "i = 100 , omega =  2.630\n",
      "i = 100 , omega =  2.640\n",
      "i = 100 , omega =  2.650\n",
      "i = 100 , omega =  2.660\n",
      "i = 100 , omega =  2.670\n",
      "i = 100 , omega =  2.680\n",
      "i = 100 , omega =  2.690\n",
      "i = 100 , omega =  2.700\n",
      "i = 100 , omega =  2.710\n",
      "i = 100 , omega =  2.720\n",
      "i = 100 , omega =  2.730\n",
      "i = 100 , omega =  2.740\n",
      "i = 100 , omega =  2.750\n",
      "i = 100 , omega =  2.760\n",
      "i = 100 , omega =  2.770\n",
      "i = 100 , omega =  2.780\n",
      "i = 100 , omega =  2.790\n",
      "i = 100 , omega =  2.800\n",
      "i = 100 , omega =  2.810\n",
      "i = 100 , omega =  2.820\n",
      "i = 100 , omega =  2.830\n",
      "i = 100 , omega =  2.840\n",
      "i = 100 , omega =  2.850\n",
      "i = 100 , omega =  2.860\n",
      "i = 100 , omega =  2.870\n",
      "i = 100 , omega =  2.880\n",
      "i = 100 , omega =  2.890\n",
      "i = 100 , omega =  2.900\n",
      "i = 100 , omega =  2.910\n",
      "i = 100 , omega =  2.920\n",
      "i = 100 , omega =  2.930\n",
      "i = 100 , omega =  2.940\n",
      "i = 100 , omega =  2.950\n",
      "i = 100 , omega =  2.960\n",
      "i = 100 , omega =  2.970\n",
      "i = 100 , omega =  2.980\n",
      "i = 100 , omega =  2.990\n",
      "i = 100 , omega =  3.000\n",
      "i = 100 , omega =  3.010\n",
      "i = 100 , omega =  3.020\n",
      "i = 100 , omega =  3.030\n",
      "i = 100 , omega =  3.040\n",
      "i = 100 , omega =  3.050\n",
      "i = 100 , omega =  3.060\n",
      "i = 100 , omega =  3.070\n",
      "i = 100 , omega =  3.080\n",
      "i = 100 , omega =  3.090\n",
      "i = 100 , omega =  3.100\n",
      "i = 100 , omega =  3.110\n",
      "i = 100 , omega =  3.120\n",
      "i = 100 , omega =  3.130\n",
      "i = 100 , omega =  3.140\n",
      "i = 100 , omega =  3.150\n",
      "i = 100 , omega =  3.160\n",
      "i = 100 , omega =  3.170\n",
      "i = 100 , omega =  3.180\n",
      "i = 100 , omega =  3.190\n",
      "i = 100 , omega =  3.200\n",
      "i = 100 , omega =  3.210\n",
      "i = 100 , omega =  3.220\n",
      "i = 100 , omega =  3.230\n",
      "i = 100 , omega =  3.240\n",
      "i = 100 , omega =  3.250\n",
      "i = 100 , omega =  3.260\n",
      "i = 100 , omega =  3.270\n",
      "i = 100 , omega =  3.280\n",
      "i = 100 , omega =  3.290\n",
      "i = 100 , omega =  3.300\n",
      "i = 100 , omega =  3.310\n",
      "i = 100 , omega =  3.320\n",
      "i = 100 , omega =  3.330\n",
      "i = 100 , omega =  3.340\n",
      "i = 100 , omega =  3.350\n",
      "i = 100 , omega =  3.360\n",
      "i = 100 , omega =  3.370\n",
      "i = 100 , omega =  3.380\n",
      "i = 100 , omega =  3.390\n",
      "i = 100 , omega =  3.400\n",
      "i = 100 , omega =  3.410\n",
      "i = 100 , omega =  3.420\n",
      "i = 100 , omega =  3.430\n",
      "i = 100 , omega =  3.440\n",
      "i = 100 , omega =  3.450\n",
      "i = 100 , omega =  3.460\n",
      "i = 100 , omega =  3.470\n",
      "i = 100 , omega =  3.480\n",
      "i = 100 , omega =  3.490\n",
      "i = 100 , omega =  3.500\n",
      "i = 100 , omega =  3.510\n",
      "i = 100 , omega =  3.520\n",
      "i = 100 , omega =  3.530\n",
      "i = 100 , omega =  3.540\n",
      "i = 100 , omega =  3.550\n",
      "i = 100 , omega =  3.560\n",
      "i = 100 , omega =  3.570\n",
      "i = 100 , omega =  3.580\n",
      "i = 100 , omega =  3.590\n",
      "i = 100 , omega =  3.600\n",
      "i = 100 , omega =  3.610\n",
      "i = 100 , omega =  3.620\n",
      "i = 100 , omega =  3.630\n",
      "i = 100 , omega =  3.640\n",
      "i = 100 , omega =  3.650\n",
      "i = 100 , omega =  3.660\n",
      "i = 100 , omega =  3.670\n",
      "i = 100 , omega =  3.680\n",
      "i = 100 , omega =  3.690\n",
      "i = 100 , omega =  3.700\n",
      "i = 100 , omega =  3.710\n",
      "i = 100 , omega =  3.720\n",
      "i = 100 , omega =  3.730\n",
      "i = 100 , omega =  3.740\n",
      "i = 100 , omega =  3.750\n",
      "i = 100 , omega =  3.760\n",
      "i = 100 , omega =  3.770\n",
      "i = 100 , omega =  3.780\n",
      "i = 100 , omega =  3.790\n",
      "i = 100 , omega =  3.800\n",
      "i = 100 , omega =  3.810\n",
      "i = 100 , omega =  3.820\n",
      "i = 100 , omega =  3.830\n",
      "i = 100 , omega =  3.840\n",
      "i = 100 , omega =  3.850\n",
      "i = 100 , omega =  3.860\n",
      "i = 100 , omega =  3.870\n",
      "i = 100 , omega =  3.880\n",
      "i = 100 , omega =  3.890\n",
      "i = 100 , omega =  3.900\n",
      "i = 100 , omega =  3.910\n",
      "i = 100 , omega =  3.920\n",
      "i = 100 , omega =  3.930\n",
      "i = 100 , omega =  3.940\n",
      "i = 100 , omega =  3.950\n",
      "i = 100 , omega =  3.960\n",
      "i = 100 , omega =  3.970\n",
      "i = 100 , omega =  3.980\n",
      "i = 100 , omega =  3.990\n",
      "i = 100 , omega =  4.000\n",
      "i = 100 , omega =  4.010\n",
      "i = 100 , omega =  4.020\n",
      "i = 100 , omega =  4.030\n",
      "i = 100 , omega =  4.040\n",
      "i = 100 , omega =  4.050\n",
      "i = 100 , omega =  4.060\n",
      "i = 100 , omega =  4.070\n",
      "i = 100 , omega =  4.080\n",
      "i = 100 , omega =  4.090\n",
      "i = 100 , omega =  4.100\n",
      "i = 100 , omega =  4.110\n",
      "i = 100 , omega =  4.120\n",
      "i = 100 , omega =  4.130\n",
      "i = 100 , omega =  4.140\n",
      "i = 100 , omega =  4.150\n",
      "i = 100 , omega =  4.160\n",
      "i = 100 , omega =  4.170\n",
      "i = 100 , omega =  4.180\n",
      "i = 100 , omega =  4.190\n",
      "i = 100 , omega =  4.200\n",
      "i = 100 , omega =  4.210\n",
      "i = 100 , omega =  4.220\n",
      "i = 100 , omega =  4.230\n",
      "i = 100 , omega =  4.240\n",
      "i = 100 , omega =  4.250\n",
      "i = 100 , omega =  4.260\n",
      "i = 100 , omega =  4.270\n",
      "i = 100 , omega =  4.280\n",
      "i = 100 , omega =  4.290\n",
      "i = 100 , omega =  4.300\n",
      "i = 100 , omega =  4.310\n",
      "i = 100 , omega =  4.320\n",
      "i = 100 , omega =  4.330\n",
      "i = 100 , omega =  4.340\n",
      "i = 100 , omega =  4.350\n",
      "i = 100 , omega =  4.360\n",
      "i = 100 , omega =  4.370\n",
      "i = 100 , omega =  4.380\n",
      "i = 100 , omega =  4.390\n",
      "i = 100 , omega =  4.400\n",
      "i = 100 , omega =  4.410\n",
      "i = 100 , omega =  4.420\n",
      "i = 100 , omega =  4.430\n",
      "i = 100 , omega =  4.440\n",
      "i = 100 , omega =  4.450\n",
      "i = 100 , omega =  4.460\n",
      "i = 100 , omega =  4.470\n",
      "i = 100 , omega =  4.480\n",
      "i = 100 , omega =  4.490\n",
      "i = 100 , omega =  4.500\n",
      "i = 100 , omega =  4.510\n",
      "i = 100 , omega =  4.520\n",
      "i = 100 , omega =  4.530\n",
      "i = 100 , omega =  4.540\n",
      "i = 100 , omega =  4.550\n",
      "i = 100 , omega =  4.560\n",
      "i = 100 , omega =  4.570\n",
      "i = 100 , omega =  4.580\n",
      "i = 100 , omega =  4.590\n",
      "i = 100 , omega =  4.600\n",
      "i = 100 , omega =  4.610\n",
      "i = 100 , omega =  4.620\n",
      "i = 100 , omega =  4.630\n",
      "i = 100 , omega =  4.640\n",
      "i = 100 , omega =  4.650\n",
      "i = 100 , omega =  4.660\n",
      "i = 100 , omega =  4.670\n",
      "i = 100 , omega =  4.680\n",
      "i = 100 , omega =  4.690\n",
      "i = 100 , omega =  4.700\n",
      "i = 100 , omega =  4.710\n",
      "i = 100 , omega =  4.720\n",
      "i = 100 , omega =  4.730\n",
      "i = 100 , omega =  4.740\n",
      "i = 100 , omega =  4.750\n",
      "i = 100 , omega =  4.760\n",
      "i = 100 , omega =  4.770\n",
      "i = 100 , omega =  4.780\n",
      "i = 100 , omega =  4.790\n",
      "i = 100 , omega =  4.800\n",
      "i = 100 , omega =  4.810\n",
      "i = 100 , omega =  4.820\n",
      "i = 100 , omega =  4.830\n",
      "i = 100 , omega =  4.840\n",
      "i = 100 , omega =  4.850\n",
      "i = 100 , omega =  4.860\n",
      "i = 100 , omega =  4.870\n",
      "i = 100 , omega =  4.880\n",
      "i = 100 , omega =  4.890\n",
      "i = 100 , omega =  4.900\n",
      "i = 100 , omega =  4.910\n",
      "i = 100 , omega =  4.920\n",
      "i = 100 , omega =  4.930\n",
      "i = 100 , omega =  4.940\n",
      "i = 100 , omega =  4.950\n",
      "i = 100 , omega =  4.960\n",
      "i = 100 , omega =  4.970\n",
      "i = 100 , omega =  4.980\n",
      "i = 100 , omega =  4.990\n"
     ]
    }
   ],
   "source": [
    "tol = 1e-50\n",
    "o , p = [] , [] \n",
    "\n",
    "for _ in np.arange(1,5,0.01):\n",
    "    for i , r in enumerate(SOR(omega = _)):\n",
    "        if i > 2 :\n",
    "            if (np.abs((y[0] - r[0])) < tol and np.abs((y[1] - r[1])) < tol and np.abs((y[2] - r[2])) < tol ) or i >= 100 :\n",
    "                print('i = {0:1d} , omega = {1:6.3f}'.format(i,_))\n",
    "                o.append(i)\n",
    "                p.append(_)\n",
    "                break\n",
    "    y = r"
   ]
  },
  {
   "cell_type": "markdown",
   "metadata": {},
   "source": [
    "Homework 隨意建立矩陣 , 測試上面的演算法"
   ]
  },
  {
   "cell_type": "code",
   "execution_count": 114,
   "metadata": {
    "ExecuteTime": {
     "end_time": "2019-12-12T12:36:13.788785Z",
     "start_time": "2019-12-12T12:36:13.610948Z"
    }
   },
   "outputs": [
    {
     "data": {
      "image/png": "[encoded data removed]",
      "text/plain": [
       "<Figure size 1440x360 with 1 Axes>"
      ]
     },
     "metadata": {},
     "output_type": "display_data"
    }
   ],
   "source": [
    "'''\n",
    "隨著 omega 的變化 ， 收斂的變化\n",
    "'''\n",
    "\n",
    "x = range(0,len(np.arange(1,5,0.01)))\n",
    "import matplotlib.pyplot as pt\n",
    "from matplotlib import style\n",
    "style.use('ggplot')\n",
    "pt.figure(figsize=(20,5))\n",
    "pt.plot(x,o,label = 'convergence of iteration')\n",
    "# px = pt.twinx()\n",
    "# px.plot(x,p,'b--',label = 'omega')\n",
    "pt.legend()\n",
    "pt.show()"
   ]
  }
 ],
 "metadata": {
  "hide_input": false,
  "kernelspec": {
   "display_name": "Python 3",
   "language": "python",
   "name": "python3"
  },
  "language_info": {
   "codemirror_mode": {
    "name": "ipython",
    "version": 3
   },
   "file_extension": ".py",
   "mimetype": "text/x-python",
   "name": "python",
   "nbconvert_exporter": "python",
   "pygments_lexer": "ipython3",
   "version": "3.7.4"
  },
  "toc": {
   "base_numbering": 1,
   "nav_menu": {},
   "number_sections": true,
   "sideBar": true,
   "skip_h1_title": false,
   "title_cell": "Table of Contents",
   "title_sidebar": "Contents",
   "toc_cell": false,
   "toc_position": {},
   "toc_section_display": true,
   "toc_window_display": false
  },
  "varInspector": {
   "cols": {
    "lenName": 16,
    "lenType": 16,
    "lenVar": 40
   },
   "kernels_config": {
    "python": {
     "delete_cmd_postfix": "",
     "delete_cmd_prefix": "del ",
     "library": "var_list.py",
     "varRefreshCmd": "print(var_dic_list())"
    },
    "r": {
     "delete_cmd_postfix": ") ",
     "delete_cmd_prefix": "rm(",
     "library": "var_list.r",
     "varRefreshCmd": "cat(var_dic_list()) "
    }
   },
   "types_to_exclude": [
    "module",
    "function",
    "builtin_function_or_method",
    "instance",
    "_Feature"
   ],
   "window_display": false
  }
 },
 "nbformat": 4,
 "nbformat_minor": 2
}
