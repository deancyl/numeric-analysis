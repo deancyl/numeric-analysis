{
 "cells": [
  {
   "cell_type": "code",
   "execution_count": 1,
   "metadata": {
    "ExecuteTime": {
     "end_time": "2019-10-07T10:43:52.746160Z",
     "start_time": "2019-10-07T10:43:52.741201Z"
    }
   },
   "outputs": [],
   "source": [
    "import numpy as np"
   ]
  },
  {
   "cell_type": "code",
   "execution_count": 2,
   "metadata": {
    "ExecuteTime": {
     "end_time": "2019-10-07T11:05:42.339378Z",
     "start_time": "2019-10-07T11:05:42.136922Z"
    }
   },
   "outputs": [],
   "source": [
    "func = lambda c , f , n , yo : ((c * ( 1 - (1 / (1 + yo)**n ) )) / yo +  f / (1+yo)**n)"
   ]
  },
  {
   "cell_type": "code",
   "execution_count": 3,
   "metadata": {
    "ExecuteTime": {
     "end_time": "2019-10-07T11:05:49.005846Z",
     "start_time": "2019-10-07T11:05:48.962484Z"
    }
   },
   "outputs": [],
   "source": [
    "f = func(80,1000,6,0.09000007)"
   ]
  },
  {
   "cell_type": "code",
   "execution_count": 157,
   "metadata": {
    "ExecuteTime": {
     "end_time": "2019-10-07T15:31:17.115938Z",
     "start_time": "2019-10-07T15:31:17.102972Z"
    }
   },
   "outputs": [],
   "source": []
  },
  {
   "cell_type": "code",
   "execution_count": 158,
   "metadata": {
    "ExecuteTime": {
     "end_time": "2019-10-07T15:31:21.451725Z",
     "start_time": "2019-10-07T15:31:21.444748Z"
    }
   },
   "outputs": [
    {
     "data": {
      "text/plain": [
       "-0.5"
      ]
     },
     "execution_count": 158,
     "metadata": {},
     "output_type": "execute_result"
    }
   ],
   "source": [
    "secant(0.1,0.01,0.001,500,f)"
   ]
  },
  {
   "cell_type": "code",
   "execution_count": 142,
   "metadata": {
    "ExecuteTime": {
     "end_time": "2019-10-07T15:24:40.617075Z",
     "start_time": "2019-10-07T15:24:40.602114Z"
    }
   },
   "outputs": [],
   "source": [
    "'''\n",
    "newton method\n",
    "'''\n",
    "def newton( xo ,tol , no , f , fx ):\n",
    "    '''\n",
    "    xo : initial approximation  \n",
    "    TOL : tolerance  \n",
    "    no : maximum number of iterations\n",
    "    f : function\n",
    "    fx : derative function\n",
    "    '''\n",
    "    i = 0\n",
    "    while i <= no :\n",
    "        try:\n",
    "            f1 = f(xo)\n",
    "            f2 = fx(xo)\n",
    "            x = xo - (  f1 / f2 ) \n",
    "        except ZeroDivisionError:\n",
    "#             print('ZeroDivisionError')\n",
    "            continue\n",
    "        if np.abs(x-xo) < tol :\n",
    "            return x\n",
    "            break \n",
    "        i+=1\n",
    "        xo = x\n",
    "#         print(xo)\n",
    "#     if i == no:\n",
    "    print('maximum number of iterations N0...')\n",
    "'''\n",
    "secant method\n",
    "'''\n",
    "def secant(po , p1 , tol , no , f ):\n",
    "    '''\n",
    "    po , p1 : initial approximations\n",
    "    TOL : tolerance\n",
    "    no : maximum number of iterations\n",
    "    '''\n",
    "    i = 2 \n",
    "    qo = f(po)\n",
    "    q1 = f(p1)\n",
    "    while i <= no : \n",
    "        p = p1 - q1*(p1-po) / (q1 - qo)\n",
    "        if np.abs(p - p1) < tol :\n",
    "            return p\n",
    "            break \n",
    "        i+=1\n",
    "        po , qo , p1 , q1 = p1 , q1 , p , f(p)\n",
    "    print('The method failed after N0 iterations, N0 =', no)    \n",
    "'''\n",
    "bisection method\n",
    "'''\n",
    "def bisection( start , end , tol , no , f):\n",
    "    '''\n",
    "    start : start points \n",
    "    end : end points \n",
    "    tol : tolerance \n",
    "    no : maximum number of iterations \n",
    "    '''\n",
    "    i = 1 \n",
    "    st = start\n",
    "    et = end\n",
    "    fa = f(st)\n",
    "    while i <= no:\n",
    "        p = st + (et-st)/2\n",
    "        fp = f(p)\n",
    "        if fp == 0 or (et-st)/2 < tol :\n",
    "            return p\n",
    "            break\n",
    "        i+=1\n",
    "        if fa * fp > 0 :\n",
    "             st , fa  = p , fp\n",
    "        elif fa * fp < 0 : \n",
    "            et = p\n",
    "#     if i == no:\n",
    "    print('maximum number of iterations N0')\n",
    "'''\n",
    "brute-force method\n",
    "'''\n",
    "def brute_force(f):\n",
    "    '''\n",
    "    rn : round number\n",
    "    f : func\n",
    "    '''\n",
    "    rn = 2\n",
    "    i = 0\n",
    "    while True:\n",
    "        i+= 0.001\n",
    "        p = np.round(f(i), rn)\n",
    "        if p == 0 :\n",
    "            return i\n",
    "            break"
   ]
  },
  {
   "cell_type": "code",
   "execution_count": null,
   "metadata": {},
   "outputs": [],
   "source": []
  },
  {
   "cell_type": "code",
   "execution_count": 139,
   "metadata": {
    "ExecuteTime": {
     "end_time": "2019-10-07T15:20:11.075585Z",
     "start_time": "2019-10-07T15:20:11.018557Z"
    }
   },
   "outputs": [],
   "source": [
    "\n",
    "def bond_price(c=0.08 , fv=1000 , n=6 , m = 1 , bp = 955.14 , t = 'f'):\n",
    "    '''\n",
    "    c : coupon rate\n",
    "    fv : face value \n",
    "    n : time  to maturity\n",
    "    bp : real bond price\n",
    "    m : frequency\n",
    "    t ： \n",
    "        f : function\n",
    "        fx : derative function\n",
    "    '''\n",
    "    c = (c/m) * fv\n",
    "    n = m * n\n",
    "    if t =='f':\n",
    "        return lambda yo : ((c * ( 1 - (1 / (1 + yo)**n ) )) / yo +  fv / (1+yo)**n) - bp\n",
    "    elif t == 'fx':\n",
    "        return lambda yo : -c/(yo**2) + c /( (yo**2) * ((1+yo)**n) ) + (n * c)/( yo * (1+yo)**(n+1) ) - (fv * n) / ((1+yo)**(n+1))\n",
    "    else:\n",
    "        print('wrong')\n",
    "f = bond_price()\n",
    "fx = bond_price(t='fx')"
   ]
  },
  {
   "cell_type": "code",
   "execution_count": 140,
   "metadata": {
    "ExecuteTime": {
     "end_time": "2019-10-07T15:20:13.514444Z",
     "start_time": "2019-10-07T15:20:13.466155Z"
    }
   },
   "outputs": [
    {
     "name": "stdout",
     "output_type": "stream",
     "text": [
      "newton : 0.08999785557763838\n",
      "bisection : 0.08999694824218751\n",
      "brute_force ：0.09000000000000007\n"
     ]
    }
   ],
   "source": [
    "print('newton : ' + str(newton(0.01,1e-3,500,f,fx)))\n",
    "print('bisection : '+str(bisection(0.01,0.1,1e-5,500,f)))\n",
    "print('brute_force ：'+str(brute_force(f)))"
   ]
  },
  {
   "cell_type": "code",
   "execution_count": 146,
   "metadata": {
    "ExecuteTime": {
     "end_time": "2019-10-07T15:27:56.601826Z",
     "start_time": "2019-10-07T15:27:56.595841Z"
    }
   },
   "outputs": [],
   "source": [
    "f = lambda x : 2*x+1\n",
    "fx = lambda x : 2 "
   ]
  },
  {
   "cell_type": "code",
   "execution_count": 135,
   "metadata": {
    "ExecuteTime": {
     "end_time": "2019-10-07T12:23:27.804674Z",
     "start_time": "2019-10-07T12:23:27.794731Z"
    }
   },
   "outputs": [
    {
     "name": "stdout",
     "output_type": "stream",
     "text": [
      "newton : -0.5\n",
      "bisection : 0.0999945068359375\n",
      "bisection : -0.4999931335449218\n"
     ]
    }
   ],
   "source": [
    "print('newton : ' + str(newton(0.01,1e-3,500,f,fx)))\n",
    "print('bisection : '+str(bisection(0.01,0.1,1e-5,500,f)))\n",
    "# print('brute_force ：'+str(brute_force(f)))\n",
    "print('bisection : '+str(bisection(-1,0.1,1e-5,500,f)))"
   ]
  },
  {
   "cell_type": "code",
   "execution_count": 169,
   "metadata": {
    "ExecuteTime": {
     "end_time": "2019-10-07T15:39:32.484165Z",
     "start_time": "2019-10-07T15:39:32.479138Z"
    }
   },
   "outputs": [],
   "source": []
  },
  {
   "cell_type": "code",
   "execution_count": 168,
   "metadata": {
    "ExecuteTime": {
     "end_time": "2019-10-07T15:39:12.773073Z",
     "start_time": "2019-10-07T15:39:12.760080Z"
    }
   },
   "outputs": [
    {
     "ename": "AttributeError",
     "evalue": "module 'numeric_analysis' has no attribute 'bisection'",
     "output_type": "error",
     "traceback": [
      "\u001b[1;31m---------------------------------------------------------------------------\u001b[0m",
      "\u001b[1;31mAttributeError\u001b[0m                            Traceback (most recent call last)",
      "\u001b[1;32m<ipython-input-168-2c4ea19793a9>\u001b[0m in \u001b[0;36m<module>\u001b[1;34m\u001b[0m\n\u001b[1;32m----> 1\u001b[1;33m \u001b[0mn\u001b[0m\u001b[1;33m.\u001b[0m\u001b[0mbisection\u001b[0m\u001b[1;33m(\u001b[0m\u001b[1;33m)\u001b[0m\u001b[1;33m\u001b[0m\u001b[1;33m\u001b[0m\u001b[0m\n\u001b[0m",
      "\u001b[1;31mAttributeError\u001b[0m: module 'numeric_analysis' has no attribute 'bisection'"
     ]
    }
   ],
   "source": [
    "np."
   ]
  },
  {
   "cell_type": "code",
   "execution_count": 92,
   "metadata": {
    "ExecuteTime": {
     "end_time": "2019-10-07T11:59:12.237983Z",
     "start_time": "2019-10-07T11:59:12.225026Z"
    }
   },
   "outputs": [
    {
     "name": "stdout",
     "output_type": "stream",
     "text": [
      "36\n",
      "26\n"
     ]
    }
   ],
   "source": [
    "def myfunc(n):\n",
    "    return lambda a : a + (n *5)\n",
    "\n",
    "mydoubler = myfunc(5)\n",
    "mytripler = myfunc(3)\n",
    "\n",
    "print(mydoubler(11)) \n",
    "print(mytripler(11))"
   ]
  }
 ],
 "metadata": {
  "hide_input": false,
  "kernelspec": {
   "display_name": "Python 3",
   "language": "python",
   "name": "python3"
  },
  "language_info": {
   "codemirror_mode": {
    "name": "ipython",
    "version": 3
   },
   "file_extension": ".py",
   "mimetype": "text/x-python",
   "name": "python",
   "nbconvert_exporter": "python",
   "pygments_lexer": "ipython3",
   "version": "3.7.3"
  },
  "toc": {
   "base_numbering": 1,
   "nav_menu": {},
   "number_sections": true,
   "sideBar": true,
   "skip_h1_title": false,
   "title_cell": "Table of Contents",
   "title_sidebar": "Contents",
   "toc_cell": false,
   "toc_position": {},
   "toc_section_display": true,
   "toc_window_display": false
  },
  "varInspector": {
   "cols": {
    "lenName": 16,
    "lenType": 16,
    "lenVar": 40
   },
   "kernels_config": {
    "python": {
     "delete_cmd_postfix": "",
     "delete_cmd_prefix": "del ",
     "library": "var_list.py",
     "varRefreshCmd": "print(var_dic_list())"
    },
    "r": {
     "delete_cmd_postfix": ") ",
     "delete_cmd_prefix": "rm(",
     "library": "var_list.r",
     "varRefreshCmd": "cat(var_dic_list()) "
    }
   },
   "types_to_exclude": [
    "module",
    "function",
    "builtin_function_or_method",
    "instance",
    "_Feature"
   ],
   "window_display": false
  }
 },
 "nbformat": 4,
 "nbformat_minor": 2
}
